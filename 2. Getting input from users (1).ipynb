{
 "cells": [
  {
   "cell_type": "markdown",
   "id": "76e33e8b",
   "metadata": {},
   "source": [
    "#### Write a program that allows the user to enter the time in seconds and then outputs how far an object would drop."
   ]
  },
  {
   "cell_type": "code",
   "execution_count": 1,
   "id": "e18e8a61",
   "metadata": {},
   "outputs": [],
   "source": [
    "def distance():\n",
    "    acceleration = 32\n",
    "    time_in_seconds = input('Please enter a time in seconds: ')\n",
    "    distance = acceleration*pow(int(time_in_seconds),2)/2\n",
    "    return(distance)\n",
    "    "
   ]
  },
  {
   "cell_type": "code",
   "execution_count": 2,
   "id": "4ae3f3e2",
   "metadata": {},
   "outputs": [
    {
     "name": "stdout",
     "output_type": "stream",
     "text": [
      "Please enter a time in seconds: 2\n",
      "The distance is: 64.0\n",
      "Do you want to continue: y/n\n",
      "y\n",
      "Please enter a time in seconds: 5\n",
      "The distance is: 400.0\n",
      "Do you want to continue: y/n\n",
      "n\n",
      "All finished!!\n"
     ]
    }
   ],
   "source": [
    "indicator = True\n",
    "while indicator:\n",
    "    result = distance()\n",
    "    print('The distance is: ' + str(result))\n",
    "    question = input('Do you want to continue: y/n\\n')\n",
    "    if(question == 'n'):\n",
    "       indicator = False\n",
    "       print('All finished!!')"
   ]
  }
 ],
 "metadata": {
  "kernelspec": {
   "display_name": "Python 3 (ipykernel)",
   "language": "python",
   "name": "python3"
  },
  "language_info": {
   "codemirror_mode": {
    "name": "ipython",
    "version": 3
   },
   "file_extension": ".py",
   "mimetype": "text/x-python",
   "name": "python",
   "nbconvert_exporter": "python",
   "pygments_lexer": "ipython3",
   "version": "3.8.13"
  }
 },
 "nbformat": 4,
 "nbformat_minor": 5
}
