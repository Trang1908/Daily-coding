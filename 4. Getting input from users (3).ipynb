{
 "cells": [
  {
   "cell_type": "code",
   "execution_count": 1,
   "id": "157eeaa9",
   "metadata": {},
   "outputs": [],
   "source": [
    "# $2.75 per meter\n",
    "# buy more than 10m => discount 15% every additional meter\n",
    "def total_cost():\n",
    "    price_per_meter = 2.75\n",
    "    x = input('Please enter the length of carpet: ')\n",
    "    if int(x) <= 10:\n",
    "        total_price = price_per_meter*int(x)\n",
    "        print('The total price of your carpet is: ' + str(total_price))\n",
    "    else:\n",
    "        additional_length = int(x)-10\n",
    "        additional_price = additional_length*15/100*price_per_meter\n",
    "        discount_price = price_per_meter*10 + additional_price\n",
    "        print('The total price of your carpet is: ' + str(discount_price))"
   ]
  },
  {
   "cell_type": "code",
   "execution_count": 2,
   "id": "b7556d25",
   "metadata": {},
   "outputs": [
    {
     "name": "stdout",
     "output_type": "stream",
     "text": [
      "Please enter the length of carpet: 8\n",
      "The total price of your carpet is: 22.0\n",
      "Do you want to continue: y/n\n",
      "y\n",
      "Please enter the length of carpet: 10\n",
      "The total price of your carpet is: 27.5\n",
      "Do you want to continue: y/n\n",
      "y\n",
      "Please enter the length of carpet: 11\n",
      "The total price of your carpet is: 27.9125\n",
      "Do you want to continue: y/n\n",
      "n\n",
      "All finished!!!\n"
     ]
    }
   ],
   "source": [
    "indicator = True\n",
    "while indicator:\n",
    "    total_price = total_cost()\n",
    "    ques = input('Do you want to continue: y/n\\n')\n",
    "    if ques == 'n':\n",
    "        indicator = False\n",
    "        print('All finished!!!')"
   ]
  }
 ],
 "metadata": {
  "kernelspec": {
   "display_name": "Python 3 (ipykernel)",
   "language": "python",
   "name": "python3"
  },
  "language_info": {
   "codemirror_mode": {
    "name": "ipython",
    "version": 3
   },
   "file_extension": ".py",
   "mimetype": "text/x-python",
   "name": "python",
   "nbconvert_exporter": "python",
   "pygments_lexer": "ipython3",
   "version": "3.8.13"
  }
 },
 "nbformat": 4,
 "nbformat_minor": 5
}
