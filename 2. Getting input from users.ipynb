{
 "cells": [
  {
   "cell_type": "markdown",
   "id": "072fe49a",
   "metadata": {},
   "source": [
    "### Getting input from users:"
   ]
  },
  {
   "cell_type": "code",
   "execution_count": 5,
   "id": "1839e984",
   "metadata": {},
   "outputs": [
    {
     "name": "stdout",
     "output_type": "stream",
     "text": [
      "Enter your name: Trang\n",
      "Hello, my name is Trang!\n"
     ]
    }
   ],
   "source": [
    "# Example:\n",
    "name = input('Enter your name: ')\n",
    "print('Hello, my name is ' + name + '!')"
   ]
  },
  {
   "cell_type": "code",
   "execution_count": 14,
   "id": "47160ab4",
   "metadata": {},
   "outputs": [
    {
     "name": "stdout",
     "output_type": "stream",
     "text": [
      "Enter the time in seconds: 2\n",
      "The distance is: 64.0\n"
     ]
    }
   ],
   "source": [
    "time_seconds = input('Enter the time in seconds: ')\n",
    "distance = 32*pow(int(time_seconds),2)/2\n",
    "print('The distance is: ' + str(distance))"
   ]
  },
  {
   "cell_type": "code",
   "execution_count": 77,
   "id": "7f6fc014",
   "metadata": {},
   "outputs": [],
   "source": [
    "def distance():\n",
    "    acceleration = 32\n",
    "    time_in_seconds = input('Enter the time in seconds: ')\n",
    "    distance = 32*pow(int(time_in_seconds),2)/2\n",
    "    return distance"
   ]
  },
  {
   "cell_type": "code",
   "execution_count": 71,
   "id": "63f625cd",
   "metadata": {},
   "outputs": [
    {
     "name": "stdout",
     "output_type": "stream",
     "text": [
      "Enter the time in seconds: 2\n"
     ]
    },
    {
     "data": {
      "text/plain": [
       "'The distance is: 64.0'"
      ]
     },
     "execution_count": 71,
     "metadata": {},
     "output_type": "execute_result"
    }
   ],
   "source": [
    "distance()"
   ]
  },
  {
   "cell_type": "code",
   "execution_count": 74,
   "id": "b508a866",
   "metadata": {},
   "outputs": [
    {
     "name": "stdout",
     "output_type": "stream",
     "text": [
      "Enter the time in seconds: 3\n",
      "The distance is: The distance is: 144.0\n",
      "Do you want to continue? y/n\n",
      "y\n",
      "Enter the time in seconds: 6\n",
      "The distance is: The distance is: 576.0\n",
      "Do you want to continue? y/n\n",
      "n\n",
      "Bye!\n"
     ]
    }
   ],
   "source": [
    "indicator = True\n",
    "while indicator:\n",
    "    result = distance()\n",
    "    print('The distance is: ' + str(result))\n",
    "    ans = input(\"Do you want to continue? y/n\\n\")\n",
    "    if(ans==\"n\"):\n",
    "        indicator = False\n",
    "        print(\"Bye!\")"
   ]
  },
  {
   "cell_type": "code",
   "execution_count": 76,
   "id": "2023c95f",
   "metadata": {},
   "outputs": [
    {
     "name": "stdout",
     "output_type": "stream",
     "text": [
      "Enter the time in seconds: 9\n",
      "The distance is: 1296.0\n",
      "Do you want to continue? y/n\n",
      "y\n",
      "Enter the time in seconds: 3\n",
      "The distance is: 144.0\n",
      "Do you want to continue? y/n\n",
      "n\n",
      "Bye!\n"
     ]
    }
   ],
   "source": [
    "indicator = True\n",
    "while indicator:\n",
    "    acceleration = 32\n",
    "    time_in_seconds = input('Enter the time in seconds: ')\n",
    "    distance = 32*pow(int(time_in_seconds),2)/2\n",
    "    result = distance\n",
    "    print('The distance is: ' + str(result))4\n",
    "    acceleration = 32\n",
    "    time_in_seconds = input('Enter the time in seconds: ')\n",
    "    distance = 32*pow(int(time_in_seconds),2)/2\n",
    "    acceleration = 32\n",
    "    time_in_seconds = input('Enter the time in seconds: ')\n",
    "    distance = 32*pow(int(time_in_seconds),2)/2\n",
    "    ans = input(\"Do you want to continue? y/n\\n\")\n",
    "    if(ans==\"n\"):\n",
    "        indicator = False\n",
    "        print(\"Bye!\")"
   ]
  },
  {
   "cell_type": "markdown",
   "id": "76e33e8b",
   "metadata": {},
   "source": [
    "# Answer"
   ]
  },
  {
   "cell_type": "code",
   "execution_count": 78,
   "id": "ef2fbdb7",
   "metadata": {},
   "outputs": [],
   "source": [
    "def distance():\n",
    "    acceleration = 35\n",
    "    time_in_seconds = input('Enter the time in seconds: ')\n",
    "    distance = acceleration*pow(int(time_in_seconds),2)/2\n",
    "    return distance"
   ]
  },
  {
   "cell_type": "code",
   "execution_count": 83,
   "id": "5033cd58",
   "metadata": {},
   "outputs": [
    {
     "name": "stdout",
     "output_type": "stream",
     "text": [
      "Enter the time in seconds: 1\n",
      "The distance is: 17.5\n",
      "Do you want to continue? y/n\n",
      "y\n",
      "Enter the time in seconds: 2\n",
      "The distance is: 70.0\n",
      "Do you want to continue? y/n\n",
      "n\n",
      "Bye!\n"
     ]
    }
   ],
   "source": [
    "indicator = True\n",
    "while indicator:\n",
    "    result = distance()\n",
    "    print('The distance is: ' + str(result))\n",
    "    ans = input(\"Do you want to continue? y/n\\n\")\n",
    "    if(ans==\"n\"):\n",
    "        indicator = False\n",
    "        print(\"Bye!\")"
   ]
  },
  {
   "cell_type": "code",
   "execution_count": 10,
   "id": "e18e8a61",
   "metadata": {},
   "outputs": [],
   "source": [
    "def distance():\n",
    "    acceleration = 32\n",
    "    time_in_seconds = input('Please enter a time in seconds: ')\n",
    "    distance = acceleration*pow(int(time_in_seconds),2)/2\n",
    "    return(distance)\n",
    "    "
   ]
  },
  {
   "cell_type": "code",
   "execution_count": 14,
   "id": "4ae3f3e2",
   "metadata": {},
   "outputs": [
    {
     "name": "stdout",
     "output_type": "stream",
     "text": [
      "Please enter a time in seconds: 1\n",
      "The distance is: 16.0\n",
      "Do you want to continue: y/n\n",
      "y\n",
      "Please enter a time in seconds: 2\n",
      "The distance is: 64.0\n",
      "Do you want to continue: y/n\n",
      "n\n",
      "All finished!!\n"
     ]
    }
   ],
   "source": [
    "indicator = True\n",
    "while indicator:\n",
    "    result = distance()\n",
    "    print('The distance is: ' + str(result))\n",
    "    question = input('Do you want to continue: y/n\\n')\n",
    "    if(question == 'n'):\n",
    "       indicator = False\n",
    "       print('All finished!!')"
   ]
  },
  {
   "cell_type": "code",
   "execution_count": null,
   "id": "cf235cbe",
   "metadata": {},
   "outputs": [],
   "source": []
  },
  {
   "cell_type": "code",
   "execution_count": null,
   "id": "9dc4f5e8",
   "metadata": {},
   "outputs": [],
   "source": []
  }
 ],
 "metadata": {
  "kernelspec": {
   "display_name": "Python 3 (ipykernel)",
   "language": "python",
   "name": "python3"
  },
  "language_info": {
   "codemirror_mode": {
    "name": "ipython",
    "version": 3
   },
   "file_extension": ".py",
   "mimetype": "text/x-python",
   "name": "python",
   "nbconvert_exporter": "python",
   "pygments_lexer": "ipython3",
   "version": "3.8.13"
  }
 },
 "nbformat": 4,
 "nbformat_minor": 5
}
