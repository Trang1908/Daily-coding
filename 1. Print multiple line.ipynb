{
 "cells": [
  {
   "cell_type": "code",
   "execution_count": 11,
   "id": "b20bad4b",
   "metadata": {},
   "outputs": [
    {
     "name": "stdout",
     "output_type": "stream",
     "text": [
      "**************************************************\n",
      "\n",
      "\n",
      "           C C C              S S S S       !!\n",
      "         C       C          S         S     !!\n",
      "        C                  S                !!\n",
      "       C                    S               !!\n",
      "       C                      S S S S       !!\n",
      "       C                              S     !!\n",
      "        C                              S    !!\n",
      "         C       C          S         S  \n",
      "           C C C              S S S S       00\n",
      "\n",
      "\n",
      "**************************************************\n",
      "   Computer Science is Cool Stuff!!!\n"
     ]
    }
   ],
   "source": [
    "print('*'*50)   \n",
    "print('\\n')\n",
    "print('           C C C              S S S S       !!')         \n",
    "print('         C       C          S         S     !!')      \n",
    "print('        C                  S                !!')     \n",
    "print('       C                    S               !!')     \n",
    "print('       C                      S S S S       !!')     \n",
    "print('       C                              S     !!')    \n",
    "print('        C                              S    !!')     \n",
    "print('         C       C          S         S  ')          \n",
    "print('           C C C              S S S S       00')         \n",
    "print('\\n')\n",
    "print('*'*50)\n",
    "print('   Computer Science is Cool Stuff!!!')"
   ]
  },
  {
   "cell_type": "code",
   "execution_count": 17,
   "id": "32e6de12",
   "metadata": {},
   "outputs": [
    {
     "name": "stdout",
     "output_type": "stream",
     "text": [
      "I am Trang. \n",
      " I'm clever\n"
     ]
    }
   ],
   "source": [
    "print(\"I am Trang. \\n I'm clever\")"
   ]
  },
  {
   "cell_type": "code",
   "execution_count": 19,
   "id": "b12a05be",
   "metadata": {},
   "outputs": [
    {
     "name": "stdout",
     "output_type": "stream",
     "text": [
      "**************************************************\n",
      "           C C C              S S S S       !!\n",
      "         C       C          S         S     !!\n"
     ]
    }
   ],
   "source": [
    "print(\"**************************************************\\n           C C C              S S S S       !!\\n         C       C          S         S     !!\")"
   ]
  },
  {
   "cell_type": "code",
   "execution_count": 26,
   "id": "52c4ab61",
   "metadata": {},
   "outputs": [
    {
     "name": "stdout",
     "output_type": "stream",
     "text": [
      "\n",
      "**************************************************\n",
      "  \n",
      "           C C C              S S S S       !!         \n",
      "         C       C          S         S     !!      \n",
      "        C                  S                !!     \n",
      "       C                    S               !!     \n",
      "       C                      S S S S       !!     \n",
      "       C                              S     !!    \n",
      "        C                              S    !!     \n",
      "         C       C          S         S            \n",
      "           C C C              S S S S       00\n",
      "         \n",
      "**************************************************\n",
      "      Computer Science is Cool Stuff!!!\n"
     ]
    }
   ],
   "source": [
    "a = \"\"\"\n",
    "**************************************************\\n  \n",
    "           C C C              S S S S       !!         \n",
    "         C       C          S         S     !!      \n",
    "        C                  S                !!     \n",
    "       C                    S               !!     \n",
    "       C                      S S S S       !!     \n",
    "       C                              S     !!    \n",
    "        C                              S    !!     \n",
    "         C       C          S         S            \n",
    "           C C C              S S S S       00\\n         \n",
    "**************************************************\n",
    "      Computer Science is Cool Stuff!!!\"\"\"\n",
    "\n",
    "print(a)"
   ]
  },
  {
   "cell_type": "code",
   "execution_count": null,
   "id": "63bfd098",
   "metadata": {},
   "outputs": [],
   "source": []
  }
 ],
 "metadata": {
  "kernelspec": {
   "display_name": "Python 3 (ipykernel)",
   "language": "python",
   "name": "python3"
  },
  "language_info": {
   "codemirror_mode": {
    "name": "ipython",
    "version": 3
   },
   "file_extension": ".py",
   "mimetype": "text/x-python",
   "name": "python",
   "nbconvert_exporter": "python",
   "pygments_lexer": "ipython3",
   "version": "3.8.13"
  }
 },
 "nbformat": 4,
 "nbformat_minor": 5
}
