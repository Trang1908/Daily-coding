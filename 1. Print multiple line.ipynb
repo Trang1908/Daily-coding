{
 "cells": [
  {
   "cell_type": "markdown",
   "id": "c4837422",
   "metadata": {},
   "source": [
    "#### Print out 'C S !' in large block letters inside a border of * followed by two blank lines than message 'Computer Science is Cool stuff'"
   ]
  },
  {
   "cell_type": "code",
   "execution_count": 1,
   "id": "b20bad4b",
   "metadata": {},
   "outputs": [
    {
     "name": "stdout",
     "output_type": "stream",
     "text": [
      "**************************************************\n",
      "\n",
      "\n",
      "           C C C              S S S S       !!\n",
      "         C       C          S         S     !!\n",
      "        C                  S                !!\n",
      "       C                    S               !!\n",
      "       C                      S S S S       !!\n",
      "       C                              S     !!\n",
      "        C                              S    !!\n",
      "         C       C          S         S  \n",
      "           C C C              S S S S       00\n",
      "\n",
      "\n",
      "**************************************************\n",
      "   Computer Science is Cool Stuff!!!\n"
     ]
    }
   ],
   "source": [
    "print('*'*50)   \n",
    "print('\\n')\n",
    "print('           C C C              S S S S       !!')         \n",
    "print('         C       C          S         S     !!')      \n",
    "print('        C                  S                !!')     \n",
    "print('       C                    S               !!')     \n",
    "print('       C                      S S S S       !!')     \n",
    "print('       C                              S     !!')    \n",
    "print('        C                              S    !!')     \n",
    "print('         C       C          S         S  ')          \n",
    "print('           C C C              S S S S       00')         \n",
    "print('\\n')\n",
    "print('*'*50)\n",
    "print('   Computer Science is Cool Stuff!!!')"
   ]
  },
  {
   "cell_type": "code",
   "execution_count": 2,
   "id": "52c4ab61",
   "metadata": {},
   "outputs": [
    {
     "name": "stdout",
     "output_type": "stream",
     "text": [
      "\n",
      "**************************************************\n",
      "  \n",
      "           C C C              S S S S       !!         \n",
      "         C       C          S         S     !!      \n",
      "        C                  S                !!     \n",
      "       C                    S               !!     \n",
      "       C                      S S S S       !!     \n",
      "       C                              S     !!    \n",
      "        C                              S    !!     \n",
      "         C       C          S         S            \n",
      "           C C C              S S S S       00\n",
      "         \n",
      "**************************************************\n",
      "      Computer Science is Cool Stuff!!!\n"
     ]
    }
   ],
   "source": [
    "a = \"\"\"\n",
    "**************************************************\\n  \n",
    "           C C C              S S S S       !!         \n",
    "         C       C          S         S     !!      \n",
    "        C                  S                !!     \n",
    "       C                    S               !!     \n",
    "       C                      S S S S       !!     \n",
    "       C                              S     !!    \n",
    "        C                              S    !!     \n",
    "         C       C          S         S            \n",
    "           C C C              S S S S       00\\n         \n",
    "**************************************************\n",
    "      Computer Science is Cool Stuff!!!\"\"\"\n",
    "\n",
    "print(a)"
   ]
  }
 ],
 "metadata": {
  "kernelspec": {
   "display_name": "Python 3 (ipykernel)",
   "language": "python",
   "name": "python3"
  },
  "language_info": {
   "codemirror_mode": {
    "name": "ipython",
    "version": 3
   },
   "file_extension": ".py",
   "mimetype": "text/x-python",
   "name": "python",
   "nbconvert_exporter": "python",
   "pygments_lexer": "ipython3",
   "version": "3.8.13"
  }
 },
 "nbformat": 4,
 "nbformat_minor": 5
}
