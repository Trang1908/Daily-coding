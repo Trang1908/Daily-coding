{
 "cells": [
  {
   "cell_type": "code",
   "execution_count": 1,
   "id": "d1a0eff7",
   "metadata": {},
   "outputs": [],
   "source": [
    "def menu():\n",
    "    simple_menu = (\"1. Soup and salad\\n2. Pasta with meat sauce\\n3. Chef's speacial\")\n",
    "    print(simple_menu)"
   ]
  },
  {
   "cell_type": "code",
   "execution_count": 2,
   "id": "38001316",
   "metadata": {},
   "outputs": [],
   "source": [
    "def note_1():\n",
    "    print_one = (\"One Soup and salad coming right up!\")\n",
    "    print(print_one)"
   ]
  },
  {
   "cell_type": "code",
   "execution_count": 3,
   "id": "caf7d6c7",
   "metadata": {},
   "outputs": [],
   "source": [
    "def note_2():\n",
    "    print_two = (\"One Pasta with meat sauce coming right up!\")\n",
    "    print(print_two)"
   ]
  },
  {
   "cell_type": "code",
   "execution_count": 4,
   "id": "bfcf431c",
   "metadata": {},
   "outputs": [],
   "source": [
    "def note_3():\n",
    "    print_three = (\"One Chef's speacial coming right up!\")\n",
    "    print(print_three)"
   ]
  },
  {
   "cell_type": "code",
   "execution_count": 5,
   "id": "7c388b59",
   "metadata": {},
   "outputs": [],
   "source": [
    "def print_error():\n",
    "    error = ('Sorry, that is not a valid choice')\n",
    "    print(error)"
   ]
  },
  {
   "cell_type": "code",
   "execution_count": 6,
   "id": "ea3d4bbe",
   "metadata": {},
   "outputs": [],
   "source": [
    "def order():\n",
    "    ask = input(\"Which number would you like to order?\\n\")\n",
    "    if int(ask) == 1:\n",
    "        note_1()\n",
    "    elif int(ask) == 2:\n",
    "        note_2()\n",
    "    elif int(ask) == 3:\n",
    "        note_3()\n",
    "    else:\n",
    "        int(ask) != (1,2,3)\n",
    "        print('Sorry, that is not a valid choice')"
   ]
  },
  {
   "cell_type": "code",
   "execution_count": 7,
   "id": "854cbee4",
   "metadata": {
    "scrolled": true
   },
   "outputs": [
    {
     "name": "stdout",
     "output_type": "stream",
     "text": [
      "1. Soup and salad\n",
      "2. Pasta with meat sauce\n",
      "3. Chef's speacial\n",
      "Which number would you like to order?\n",
      "1\n",
      "One Soup and salad coming right up!\n",
      "Do you want to continue: y/n\n",
      "y\n",
      "Which number would you like to order?\n",
      "4\n",
      "Sorry, that is not a valid choice\n",
      "Do you want to continue: y/n\n",
      "n\n",
      "All finished!!!\n"
     ]
    }
   ],
   "source": [
    "indicator = True\n",
    "menu()\n",
    "while indicator:\n",
    "    order()\n",
    "    ask = input('Do you want to continue: y/n\\n')\n",
    "    if ask == 'n':\n",
    "        indicator = False\n",
    "        print('All finished!!!')"
   ]
  }
 ],
 "metadata": {
  "kernelspec": {
   "display_name": "Python 3 (ipykernel)",
   "language": "python",
   "name": "python3"
  },
  "language_info": {
   "codemirror_mode": {
    "name": "ipython",
    "version": 3
   },
   "file_extension": ".py",
   "mimetype": "text/x-python",
   "name": "python",
   "nbconvert_exporter": "python",
   "pygments_lexer": "ipython3",
   "version": "3.8.13"
  }
 },
 "nbformat": 4,
 "nbformat_minor": 5
}
