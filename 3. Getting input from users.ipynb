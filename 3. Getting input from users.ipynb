{
 "cells": [
  {
   "cell_type": "code",
   "execution_count": 1,
   "id": "b9f62640",
   "metadata": {},
   "outputs": [],
   "source": [
    "def mowing_price():\n",
    "    cost_mowing_dollar = 35\n",
    "    total_square_yards = 5000\n",
    "    area = input('Please enter the area of your lawn by square yards: ')\n",
    "    mowing_price = cost_mowing_dollar/total_square_yards*int(area)\n",
    "    return(mowing_price)"
   ]
  },
  {
   "cell_type": "code",
   "execution_count": 2,
   "id": "b473c10f",
   "metadata": {},
   "outputs": [],
   "source": [
    "def fertilizing_price():\n",
    "    cost_fertilizing_dollar = 30\n",
    "    total_application = 1\n",
    "    number_application = input('Please enter the number of application: ')\n",
    "    fertilizing_price = cost_fertilizing_dollar/total_application*int(number_application)\n",
    "    return(fertilizing_price)"
   ]
  },
  {
   "cell_type": "code",
   "execution_count": 3,
   "id": "fbedd2fb",
   "metadata": {},
   "outputs": [],
   "source": [
    "def planting_price():\n",
    "    cost_planting_dollar = 50\n",
    "    total_tree = 1\n",
    "    number_tree = input('Please enter the number of trees: ')\n",
    "    planting_price = cost_planting_dollar/total_tree*int(number_tree)\n",
    "    return(planting_price)"
   ]
  },
  {
   "cell_type": "code",
   "execution_count": 4,
   "id": "36e36492",
   "metadata": {},
   "outputs": [],
   "source": [
    "def billing_amount():\n",
    "    total_mowing = mowing_price()\n",
    "    total_fertilizing = fertilizing_price()\n",
    "    total_planting = planting_price()\n",
    "    total = total_mowing + total_fertilizing + total_planting\n",
    "    return(total)"
   ]
  },
  {
   "cell_type": "code",
   "execution_count": 5,
   "id": "72c579cc",
   "metadata": {},
   "outputs": [
    {
     "name": "stdout",
     "output_type": "stream",
     "text": [
      "Please enter the area of your lawn by square yards: 1000\n",
      "Please enter the number of application: 1\n",
      "Please enter the number of trees: 1\n",
      "The total price for you is: 87.0\n",
      "Do you want to continue: y/n\n",
      "y\n",
      "Please enter the area of your lawn by square yards: 2000\n",
      "Please enter the number of application: 2\n",
      "Please enter the number of trees: 2\n",
      "The total price for you is: 174.0\n",
      "Do you want to continue: y/n\n",
      "n\n",
      "All finished!!!\n"
     ]
    }
   ],
   "source": [
    "indicator = True\n",
    "while indicator:\n",
    "    total_bill = billing_amount()\n",
    "    print('The total price for you is: ' + str(total_bill))\n",
    "    ques = input('Do you want to continue: y/n\\n')\n",
    "    if(ques == 'n'):\n",
    "        indicator = False\n",
    "        print('All finished!!!')"
   ]
  },
  {
   "cell_type": "code",
   "execution_count": null,
   "id": "6f76aea7",
   "metadata": {},
   "outputs": [],
   "source": []
  }
 ],
 "metadata": {
  "kernelspec": {
   "display_name": "Python 3 (ipykernel)",
   "language": "python",
   "name": "python3"
  },
  "language_info": {
   "codemirror_mode": {
    "name": "ipython",
    "version": 3
   },
   "file_extension": ".py",
   "mimetype": "text/x-python",
   "name": "python",
   "nbconvert_exporter": "python",
   "pygments_lexer": "ipython3",
   "version": "3.8.13"
  }
 },
 "nbformat": 4,
 "nbformat_minor": 5
}
